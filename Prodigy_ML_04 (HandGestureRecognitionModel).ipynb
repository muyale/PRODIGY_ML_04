{
 "cells": [
  {
   "cell_type": "markdown",
   "id": "0872dc44",
   "metadata": {},
   "source": [
    "# Statement of the problem\n",
    "Our task is to come up with a sign language recognition model using Computer Vision.The model then can be used by the  computer in\n",
    "recognising sign language images from recorded videos or on live videos."
   ]
  },
  {
   "cell_type": "code",
   "execution_count": 1,
   "id": "e3e1260b",
   "metadata": {},
   "outputs": [],
   "source": [
    "# importing the necessary dependencies\n",
    "import pandas as pd\n",
    "import numpy as np\n",
    "import seaborn as sns\n",
    "import matplotlib.pyplot as plt\n",
    "import torch\n",
    "from torch import nn\n",
    "import torchvision\n",
    "from torchvision import transforms  as transforms\n",
    "from torch.utils.data import Dataset,DataLoader"
   ]
  },
  {
   "cell_type": "code",
   "execution_count": 2,
   "id": "3b13fb5d",
   "metadata": {},
   "outputs": [],
   "source": [
    "#loading in our data \n",
    "train_data = pd.read_csv(\"C:\\Datasets\\sign_minist\\sign_mnist_train.csv\").head(1000)\n",
    "test_data = pd.read_csv(\"C:\\Datasets\\sign_minist\\sign_mnist_test.csv\").head(1000)"
   ]
  },
  {
   "cell_type": "code",
   "execution_count": 3,
   "id": "b8f73775",
   "metadata": {},
   "outputs": [
    {
     "data": {
      "text/html": [
       "<div>\n",
       "<style scoped>\n",
       "    .dataframe tbody tr th:only-of-type {\n",
       "        vertical-align: middle;\n",
       "    }\n",
       "\n",
       "    .dataframe tbody tr th {\n",
       "        vertical-align: top;\n",
       "    }\n",
       "\n",
       "    .dataframe thead th {\n",
       "        text-align: right;\n",
       "    }\n",
       "</style>\n",
       "<table border=\"1\" class=\"dataframe\">\n",
       "  <thead>\n",
       "    <tr style=\"text-align: right;\">\n",
       "      <th></th>\n",
       "      <th>label</th>\n",
       "      <th>pixel1</th>\n",
       "      <th>pixel2</th>\n",
       "      <th>pixel3</th>\n",
       "      <th>pixel4</th>\n",
       "      <th>pixel5</th>\n",
       "      <th>pixel6</th>\n",
       "      <th>pixel7</th>\n",
       "      <th>pixel8</th>\n",
       "      <th>pixel9</th>\n",
       "      <th>...</th>\n",
       "      <th>pixel775</th>\n",
       "      <th>pixel776</th>\n",
       "      <th>pixel777</th>\n",
       "      <th>pixel778</th>\n",
       "      <th>pixel779</th>\n",
       "      <th>pixel780</th>\n",
       "      <th>pixel781</th>\n",
       "      <th>pixel782</th>\n",
       "      <th>pixel783</th>\n",
       "      <th>pixel784</th>\n",
       "    </tr>\n",
       "  </thead>\n",
       "  <tbody>\n",
       "    <tr>\n",
       "      <th>0</th>\n",
       "      <td>3</td>\n",
       "      <td>107</td>\n",
       "      <td>118</td>\n",
       "      <td>127</td>\n",
       "      <td>134</td>\n",
       "      <td>139</td>\n",
       "      <td>143</td>\n",
       "      <td>146</td>\n",
       "      <td>150</td>\n",
       "      <td>153</td>\n",
       "      <td>...</td>\n",
       "      <td>207</td>\n",
       "      <td>207</td>\n",
       "      <td>207</td>\n",
       "      <td>207</td>\n",
       "      <td>206</td>\n",
       "      <td>206</td>\n",
       "      <td>206</td>\n",
       "      <td>204</td>\n",
       "      <td>203</td>\n",
       "      <td>202</td>\n",
       "    </tr>\n",
       "    <tr>\n",
       "      <th>1</th>\n",
       "      <td>6</td>\n",
       "      <td>155</td>\n",
       "      <td>157</td>\n",
       "      <td>156</td>\n",
       "      <td>156</td>\n",
       "      <td>156</td>\n",
       "      <td>157</td>\n",
       "      <td>156</td>\n",
       "      <td>158</td>\n",
       "      <td>158</td>\n",
       "      <td>...</td>\n",
       "      <td>69</td>\n",
       "      <td>149</td>\n",
       "      <td>128</td>\n",
       "      <td>87</td>\n",
       "      <td>94</td>\n",
       "      <td>163</td>\n",
       "      <td>175</td>\n",
       "      <td>103</td>\n",
       "      <td>135</td>\n",
       "      <td>149</td>\n",
       "    </tr>\n",
       "    <tr>\n",
       "      <th>2</th>\n",
       "      <td>2</td>\n",
       "      <td>187</td>\n",
       "      <td>188</td>\n",
       "      <td>188</td>\n",
       "      <td>187</td>\n",
       "      <td>187</td>\n",
       "      <td>186</td>\n",
       "      <td>187</td>\n",
       "      <td>188</td>\n",
       "      <td>187</td>\n",
       "      <td>...</td>\n",
       "      <td>202</td>\n",
       "      <td>201</td>\n",
       "      <td>200</td>\n",
       "      <td>199</td>\n",
       "      <td>198</td>\n",
       "      <td>199</td>\n",
       "      <td>198</td>\n",
       "      <td>195</td>\n",
       "      <td>194</td>\n",
       "      <td>195</td>\n",
       "    </tr>\n",
       "    <tr>\n",
       "      <th>3</th>\n",
       "      <td>2</td>\n",
       "      <td>211</td>\n",
       "      <td>211</td>\n",
       "      <td>212</td>\n",
       "      <td>212</td>\n",
       "      <td>211</td>\n",
       "      <td>210</td>\n",
       "      <td>211</td>\n",
       "      <td>210</td>\n",
       "      <td>210</td>\n",
       "      <td>...</td>\n",
       "      <td>235</td>\n",
       "      <td>234</td>\n",
       "      <td>233</td>\n",
       "      <td>231</td>\n",
       "      <td>230</td>\n",
       "      <td>226</td>\n",
       "      <td>225</td>\n",
       "      <td>222</td>\n",
       "      <td>229</td>\n",
       "      <td>163</td>\n",
       "    </tr>\n",
       "    <tr>\n",
       "      <th>4</th>\n",
       "      <td>13</td>\n",
       "      <td>164</td>\n",
       "      <td>167</td>\n",
       "      <td>170</td>\n",
       "      <td>172</td>\n",
       "      <td>176</td>\n",
       "      <td>179</td>\n",
       "      <td>180</td>\n",
       "      <td>184</td>\n",
       "      <td>185</td>\n",
       "      <td>...</td>\n",
       "      <td>92</td>\n",
       "      <td>105</td>\n",
       "      <td>105</td>\n",
       "      <td>108</td>\n",
       "      <td>133</td>\n",
       "      <td>163</td>\n",
       "      <td>157</td>\n",
       "      <td>163</td>\n",
       "      <td>164</td>\n",
       "      <td>179</td>\n",
       "    </tr>\n",
       "  </tbody>\n",
       "</table>\n",
       "<p>5 rows × 785 columns</p>\n",
       "</div>"
      ],
      "text/plain": [
       "   label  pixel1  pixel2  pixel3  pixel4  pixel5  pixel6  pixel7  pixel8  \\\n",
       "0      3     107     118     127     134     139     143     146     150   \n",
       "1      6     155     157     156     156     156     157     156     158   \n",
       "2      2     187     188     188     187     187     186     187     188   \n",
       "3      2     211     211     212     212     211     210     211     210   \n",
       "4     13     164     167     170     172     176     179     180     184   \n",
       "\n",
       "   pixel9  ...  pixel775  pixel776  pixel777  pixel778  pixel779  pixel780  \\\n",
       "0     153  ...       207       207       207       207       206       206   \n",
       "1     158  ...        69       149       128        87        94       163   \n",
       "2     187  ...       202       201       200       199       198       199   \n",
       "3     210  ...       235       234       233       231       230       226   \n",
       "4     185  ...        92       105       105       108       133       163   \n",
       "\n",
       "   pixel781  pixel782  pixel783  pixel784  \n",
       "0       206       204       203       202  \n",
       "1       175       103       135       149  \n",
       "2       198       195       194       195  \n",
       "3       225       222       229       163  \n",
       "4       157       163       164       179  \n",
       "\n",
       "[5 rows x 785 columns]"
      ]
     },
     "execution_count": 3,
     "metadata": {},
     "output_type": "execute_result"
    }
   ],
   "source": [
    "# checking out the data \n",
    "train_data.head()"
   ]
  },
  {
   "cell_type": "code",
   "execution_count": 4,
   "id": "2e88f41e",
   "metadata": {},
   "outputs": [
    {
     "name": "stdout",
     "output_type": "stream",
     "text": [
      "There are a total of 24 images classes in our dataset\n"
     ]
    }
   ],
   "source": [
    "# lets see how many different classes we are supposed to predict our images\n",
    "print(f\"There are a total of {train_data['label'].nunique()} images classes in our dataset\")"
   ]
  },
  {
   "cell_type": "code",
   "execution_count": 5,
   "id": "5a9b0396",
   "metadata": {},
   "outputs": [
    {
     "data": {
      "image/png": "[encoded data removed]",
      "text/plain": [
       "<Figure size 2000x800 with 1 Axes>"
      ]
     },
     "metadata": {},
     "output_type": "display_data"
    }
   ],
   "source": [
    "plt.figure(figsize=(20,8))\n",
    "plt.xlabel(\"Classes\")\n",
    "plt.ylabel(\"Total Number \")\n",
    "sns.countplot(x=train_data['label'])\n",
    "plt.title(\"A Plot showing the total number of image classes in our dataset\")\n",
    "plt.show()"
   ]
  },
  {
   "cell_type": "code",
   "execution_count": 6,
   "id": "e18993ad",
   "metadata": {},
   "outputs": [
    {
     "name": "stdout",
     "output_type": "stream",
     "text": [
      "Our training data shape is (1000, 785)\n",
      "Our testing  data shape is (1000, 785)\n"
     ]
    }
   ],
   "source": [
    "# the shape of our training data and testing data \n",
    "print(f\"Our training data shape is {train_data.shape}\")\n",
    "print(f\"Our testing  data shape is {test_data.shape}\")"
   ]
  },
  {
   "cell_type": "code",
   "execution_count": 7,
   "id": "642883c7",
   "metadata": {},
   "outputs": [],
   "source": [
    "# Separating features such that we have labels on their own\n",
    "X_train = train_data.drop(['label'],axis=1).values\n",
    "X_test = test_data.drop(['label'],axis=1).values\n",
    "y_train = train_data['label'].values\n",
    "y_test = test_data['label'].values"
   ]
  },
  {
   "cell_type": "code",
   "execution_count": 8,
   "id": "9290b90a",
   "metadata": {},
   "outputs": [],
   "source": [
    "X_train = X_train/255\n",
    "X_test = X_test/255"
   ]
  },
  {
   "cell_type": "code",
   "execution_count": 9,
   "id": "235e4bd1",
   "metadata": {},
   "outputs": [],
   "source": [
    "X_train = X_train.reshape(-1,1,28,28)\n",
    "X_test = X_test.reshape(-1,1,28,28)"
   ]
  },
  {
   "cell_type": "code",
   "execution_count": 10,
   "id": "d88501f2",
   "metadata": {},
   "outputs": [
    {
     "data": {
      "text/plain": [
       "<Figure size 1500x500 with 0 Axes>"
      ]
     },
     "metadata": {},
     "output_type": "display_data"
    },
    {
     "data": {
      "image/png": "[encoded data removed]",
      "text/plain": [
       "<Figure size 640x480 with 8 Axes>"
      ]
     },
     "metadata": {},
     "output_type": "display_data"
    }
   ],
   "source": [
    "# Plot some 16 samples\n",
    "f =plt.figure(figsize=(15,5))\n",
    "f,graph = plt.subplots(2,4)\n",
    "f.set_size_indices = (14,5)\n",
    "z = 0\n",
    "for i in range(2):\n",
    "    for k in range(4):\n",
    "        graph[i][k].imshow(X_train[z].reshape(28,28),cmap='rainbow')\n",
    "        graph[i][k].grid(False)\n",
    "        z+=1\n",
    "plt.tight_layout()\n",
    "plt.show()"
   ]
  },
  {
   "cell_type": "code",
   "execution_count": 11,
   "id": "716cef80",
   "metadata": {},
   "outputs": [
    {
     "data": {
      "text/plain": [
       "<Figure size 1500x500 with 0 Axes>"
      ]
     },
     "metadata": {},
     "output_type": "display_data"
    },
    {
     "data": {
      "image/png": "[encoded data removed]",
      "text/plain": [
       "<Figure size 640x480 with 8 Axes>"
      ]
     },
     "metadata": {},
     "output_type": "display_data"
    }
   ],
   "source": [
    "# For our testing images \n",
    "f =plt.figure(figsize=(15,5))\n",
    "f,graph = plt.subplots(2,4)\n",
    "f.set_size_indices = (14,5)\n",
    "z = 0\n",
    "for i in range(2):\n",
    "    for k in range(4):\n",
    "        graph[i][k].imshow(X_test[z].reshape(28,28),cmap='coolwarm')\n",
    "        graph[i][k].grid(False)\n",
    "        z+=1\n",
    "plt.tight_layout()\n",
    "plt.show()"
   ]
  },
  {
   "cell_type": "markdown",
   "id": "657ed8ec",
   "metadata": {},
   "source": [
    "# DEEP LEARNING : Pytorch Computer Vision"
   ]
  },
  {
   "cell_type": "code",
   "execution_count": 12,
   "id": "c88a5c11",
   "metadata": {},
   "outputs": [],
   "source": [
    "# Convert all data into tensor data type \n",
    "X_train = torch.from_numpy(X_train).type(torch.Tensor)\n",
    "X_test = torch.from_numpy(X_test).type(torch.Tensor)\n",
    "y_train = torch.from_numpy(y_train).type(torch.Tensor)\n",
    "y_test = torch.from_numpy(y_test).type(torch.Tensor)"
   ]
  },
  {
   "cell_type": "code",
   "execution_count": 13,
   "id": "d42d8ec4",
   "metadata": {},
   "outputs": [],
   "source": [
    "from torch.utils.data import TensorDataset\n",
    "train_dataset = TensorDataset(X_train,y_train)\n",
    "test_dataset = TensorDataset(X_test,y_test)"
   ]
  },
  {
   "cell_type": "code",
   "execution_count": 14,
   "id": "5797b5ba",
   "metadata": {},
   "outputs": [],
   "source": [
    "train_loader = DataLoader(train_dataset,batch_size=64,shuffle=True)\n",
    "test_loader = DataLoader(test_dataset,batch_size=64,shuffle=False)"
   ]
  },
  {
   "cell_type": "code",
   "execution_count": 15,
   "id": "4dd6b644",
   "metadata": {},
   "outputs": [
    {
     "name": "stdout",
     "output_type": "stream",
     "text": [
      "There are a total of :16|training batches\n",
      "There are a total of :16|testing batches\n"
     ]
    }
   ],
   "source": [
    "print(f\"There are a total of :{len(train_loader)}|training batches\")\n",
    "print(f\"There are a total of :{len(test_loader)}|testing batches\")"
   ]
  },
  {
   "cell_type": "markdown",
   "id": "b776e85a",
   "metadata": {},
   "source": [
    "# CONVOLUTIONAL NEURAL NETWORK "
   ]
  },
  {
   "cell_type": "code",
   "execution_count": 16,
   "id": "c05e4377",
   "metadata": {},
   "outputs": [],
   "source": [
    "import torch.optim as optim\n",
    "import torch.nn.functional as F"
   ]
  },
  {
   "cell_type": "code",
   "execution_count": 68,
   "id": "a7033d0a",
   "metadata": {},
   "outputs": [],
   "source": [
    "class HandGesture(nn.Module):\n",
    "    def __init__(self,input_dim=1,hidden_dim=10,output_dim=24):\n",
    "        super().__init__()\n",
    "        self.input_dim = input_dim\n",
    "        self.hidden_dim = hidden_dim\n",
    "        self.output_dim = output_dim\n",
    "        self.dropout = nn.Dropout(p=0.3)\n",
    "        self.convblock1 = nn.Sequential(nn.Conv2d(in_channels= input_dim,out_channels = hidden_dim,kernel_size=3,padding=1 ,stride=1),\n",
    "                                        nn.ReLU(),\n",
    "                                        nn.Conv2d(in_channels=hidden_dim,out_channels =hidden_dim,kernel_size=3,padding=1,stride=1),\n",
    "                                        nn.ReLU(),\n",
    "                                        nn.MaxPool2d(kernel_size=3))\n",
    "        self.convblock2 = nn.Sequential(nn.Conv2d(in_channels = hidden_dim,out_channels = hidden_dim,kernel_size=3,padding=1,stride=1),\n",
    "                                        nn.ReLU(),nn.Conv2d(in_channels=hidden_dim,out_channels=hidden_dim,kernel_size=3,padding=1,stride=1),\n",
    "                                        nn.MaxPool2d(kernel_size=3))\n",
    "        self.output_layer = nn.Sequential(nn.Flatten(),nn.Linear(hidden_dim*3*3,output_dim))\n",
    "        \n",
    "    def forward(self,x):\n",
    "        #x = F.relu(x)\n",
    "        x = self.convblock1(x)\n",
    "        print(f\"Output shape of {x.shape}\")\n",
    "        x = self.convblock2(x)\n",
    "        print(f\"Output shape of {x.shape}\")\n",
    "        x = x.unsqueeze(0)\n",
    "        x = self.output_layer(x)\n",
    "        return x"
   ]
  },
  {
   "cell_type": "code",
   "execution_count": 69,
   "id": "593cbfdb",
   "metadata": {},
   "outputs": [],
   "source": [
    "model = HandGesture()"
   ]
  },
  {
   "cell_type": "code",
   "execution_count": 70,
   "id": "e638dfd8",
   "metadata": {},
   "outputs": [],
   "source": [
    "#model.forward(X_train[:2]) # random iteration in my data"
   ]
  },
  {
   "cell_type": "markdown",
   "id": "8fd7ecd6",
   "metadata": {},
   "source": [
    "# MODEL TRAINING ::"
   ]
  },
  {
   "cell_type": "code",
   "execution_count": 71,
   "id": "6f15827c",
   "metadata": {},
   "outputs": [],
   "source": [
    "import torchmetrics\n",
    "optimizer = optim.Adam(model.parameters(),lr=0.01)\n",
    "criterion = nn.BCELoss()\n",
    "accuracy  = torchmetrics.Accuracy"
   ]
  },
  {
   "cell_type": "code",
   "execution_count": 72,
   "id": "3aad3275",
   "metadata": {},
   "outputs": [
    {
     "name": "stdout",
     "output_type": "stream",
     "text": [
      "Output shape of torch.Size([10, 9, 9])\n",
      "Output shape of torch.Size([10, 3, 3])\n",
      "Output shape of torch.Size([10, 9, 9])\n",
      "Output shape of torch.Size([10, 3, 3])\n"
     ]
    }
   ],
   "source": [
    "import random\n",
    "random_image = random.choice(X_test)\n",
    "prediction = model(random_image)\n",
    "random_prediction = model.forward(random_image)"
   ]
  },
  {
   "cell_type": "code",
   "execution_count": 73,
   "id": "6b769919",
   "metadata": {},
   "outputs": [
    {
     "data": {
      "text/plain": [
       "torch.Size([1, 24])"
      ]
     },
     "execution_count": 73,
     "metadata": {},
     "output_type": "execute_result"
    }
   ],
   "source": [
    "random_prediction.shape"
   ]
  },
  {
   "cell_type": "code",
   "execution_count": 86,
   "id": "c0c5f666",
   "metadata": {},
   "outputs": [
    {
     "data": {
      "image/png": "[encoded data removed]",
      "text/plain": [
       "<Figure size 1000x700 with 1 Axes>"
      ]
     },
     "metadata": {},
     "output_type": "display_data"
    }
   ],
   "source": [
    "# Plotting random image prediction\n",
    "with torch.inference_mode():\n",
    "    fig = plt.figure(figsize=(10,7))\n",
    "    plt.imshow(random_image.squeeze(),cmap='coolwarm')\n",
    "    plt.axis(False)\n",
    "    plt.show()"
   ]
  },
  {
   "cell_type": "markdown",
   "id": "aa857a4c",
   "metadata": {},
   "source": [
    "# TRAINING AND TESTING LOOP :"
   ]
  },
  {
   "cell_type": "code",
   "execution_count": null,
   "id": "f693d945",
   "metadata": {},
   "outputs": [],
   "source": [
    "epochs = 100 \n",
    "for epoch in range(epochs):\n",
    "    for batch,X,y in enumerate(train_loader):\n",
    "        y_pred = model.forward(X_train)\n",
    "        loss = criterion(y_pred,y_train)\n",
    "        training_accuracy = accuracy(y_pred,y_train)\n",
    "        optimizer.zero_grad()\n",
    "        loss.backward()\n",
    "        optimizer.step()\n",
    "        with torch.no_grad():\n",
    "            y_pred = model.forward(X_test)\n",
    "            testing_loss = criterion(y_test,y_pred)\n",
    "            testing_accuracy = accuracy(y_test,y_pred)\n",
    "            if epoch% 10  == 0 :\n",
    "                    print(f\"Epoch{epoch}|training loss{loss}|testing loss{testing_loss}|training_accuracy{training_accuracy}|testing_accuracy{testing_accuracy}\")\n",
    "\n",
    "\n",
    "        "
   ]
  },
  {
   "cell_type": "code",
   "execution_count": null,
   "id": "9cf66b94",
   "metadata": {},
   "outputs": [],
   "source": []
  }
 ],
 "metadata": {
  "kernelspec": {
   "display_name": "Python 3 (ipykernel)",
   "language": "python",
   "name": "python3"
  },
  "language_info": {
   "codemirror_mode": {
    "name": "ipython",
    "version": 3
   },
   "file_extension": ".py",
   "mimetype": "text/x-python",
   "name": "python",
   "nbconvert_exporter": "python",
   "pygments_lexer": "ipython3",
   "version": "3.9.13"
  }
 },
 "nbformat": 4,
 "nbformat_minor": 5
}
